{
  "nbformat": 4,
  "nbformat_minor": 0,
  "metadata": {
    "colab": {
      "name": "oop_practice.ipynb",
      "provenance": [],
      "authorship_tag": "ABX9TyNKiF3STru5IWDPq5KrFEXg",
      "include_colab_link": true
    },
    "kernelspec": {
      "name": "python3",
      "display_name": "Python 3"
    },
    "language_info": {
      "name": "python"
    }
  },
  "cells": [
    {
      "cell_type": "markdown",
      "metadata": {
        "id": "view-in-github",
        "colab_type": "text"
      },
      "source": [
        "<a href=\"https://colab.research.google.com/github/ibrahima1289/Python-Codes/blob/main/google%20IT%20automation/python/oop_google_cert_practice_py.ipynb\" target=\"_parent\"><img src=\"https://colab.research.google.com/assets/colab-badge.svg\" alt=\"Open In Colab\"/></a>"
      ]
    },
    {
      "cell_type": "markdown",
      "metadata": {
        "id": "JEf7ABxlGrmT"
      },
      "source": [
        "**Google Certificate - IT Automation with Python.**\n",
        "\n",
        "**Quiz Practice: Object Oriented Programming (OOP)**"
      ]
    },
    {
      "cell_type": "markdown",
      "metadata": {
        "id": "QA0e0Ya5HAMY"
      },
      "source": [
        "1. Want to give this a go? Fill in the blanks in the code to make it print a poem."
      ]
    },
    {
      "cell_type": "code",
      "metadata": {
        "colab": {
          "base_uri": "https://localhost:8080/"
        },
        "id": "Lyk38MFnGn0_",
        "outputId": "073e6ae3-bcda-4ce5-b940-1f48ea1bd250"
      },
      "source": [
        "class Flower:\n",
        "  color = 'unknown'\n",
        "\n",
        "rose = Flower()\n",
        "rose.color = \"red\"\n",
        "\n",
        "violet = Flower()\n",
        "violet.color = \"blue\"\n",
        "\n",
        "this_pun_is_for_you = \"Love flowers!!!\"\n",
        "\n",
        "print(\"Roses are {},\".format(rose.color))\n",
        "print(\"violets are {},\".format(violet.color))\n",
        "print(this_pun_is_for_you) "
      ],
      "execution_count": 1,
      "outputs": [
        {
          "output_type": "stream",
          "text": [
            "Roses are red,\n",
            "violets are blue,\n",
            "Love flowers!!!\n"
          ],
          "name": "stdout"
        }
      ]
    },
    {
      "cell_type": "markdown",
      "metadata": {
        "id": "Icg0OO8qHVzc"
      },
      "source": [
        "**Question 1**\n",
        "\n",
        "Let’s test your knowledge of using dot notation to access methods and attributes in an object. Let’s say we have a class called Birds. Birds has two attributes: color and number. Birds also has a method called count() that counts the number of birds (adds a value to number). Which of the following lines of code will correctly print the number of birds? Keep in mind, the number of birds is 0 until they are counted!"
      ]
    },
    {
      "cell_type": "code",
      "metadata": {
        "id": "KWcrplYxHot1"
      },
      "source": [
        "# The answer is\n",
        "\n",
        "bluejay.count()\n",
        "print(bluejay.number)"
      ],
      "execution_count": null,
      "outputs": []
    },
    {
      "cell_type": "markdown",
      "metadata": {
        "id": "FCV3P_BmIVQR"
      },
      "source": [
        "**Question 2**\n",
        "\n",
        "Creating new instances of class objects can be a great way to keep track of values using attributes associated with the object. The values of these attributes can be easily changed at the object level.  The following code illustrates a famous quote by George Bernard Shaw, using objects to represent people. Fill in the blanks to make the code satisfy the behavior described in the quote. "
      ]
    },
    {
      "cell_type": "code",
      "metadata": {
        "colab": {
          "base_uri": "https://localhost:8080/"
        },
        "id": "35n3rUwWIa7g",
        "outputId": "be31b75b-63b4-4be5-c81a-d2e45300a870"
      },
      "source": [
        "# “If you have an apple and I have an apple and we exchange these apples then\n",
        "# you and I will still each have one apple. But if you have an idea and I have\n",
        "# an idea and we exchange these ideas, then each of us will have two ideas.”\n",
        "# George Bernard Shaw\n",
        "\n",
        "class Person:\n",
        "    apples = 0\n",
        "    ideas = 0\n",
        "\n",
        "johanna = Person()\n",
        "johanna.apples = 1\n",
        "johanna.ideas = 1\n",
        "\n",
        "martin = Person()\n",
        "martin.apples = 2\n",
        "martin.ideas = 1\n",
        "\n",
        "def exchange_apples(you, me):\n",
        "#Here, despite G.B. Shaw's quote, our characters have started with       #different amounts of apples so we can better observe the results. \n",
        "#We're going to have Martin and Johanna exchange ALL their apples with #one another.\n",
        "#Hint: how would you switch values of variables, \n",
        "#so that \"you\" and \"me\" will exchange ALL their apples with one another?\n",
        "#Do you need a temporary variable to store one of the values?\n",
        "#You may need more than one line of code to do that, which is OK. \n",
        "    apple_change = you.apples\n",
        "    you.apples = me.apples\n",
        "    me.apples = apple_change\n",
        "    return you.apples, me.apples\n",
        "    \n",
        "def exchange_ideas(you, me):\n",
        "    #\"you\" and \"me\" will share our ideas with one another.\n",
        "    #What operations need to be performed, so that each object receives\n",
        "    #the shared number of ideas?\n",
        "    #Hint: how would you assign the total number of ideas to \n",
        "    #each idea attribute? Do you need a temporary variable to store \n",
        "    #the sum of ideas, or can you find another way? \n",
        "    #Use as many lines of code as you need here.\n",
        "    you.ideas += me.ideas\n",
        "    me.ideas = you.ideas\n",
        "    return you.ideas, me.ideas\n",
        "\n",
        "exchange_apples(johanna, martin)\n",
        "print(\"Johanna has {} apples and Martin has {} apples\".format(johanna.apples, martin.apples))\n",
        "exchange_ideas(johanna, martin)\n",
        "print(\"Johanna has {} ideas and Martin has {} ideas\".format(johanna.ideas, martin.ideas))\n",
        "\n"
      ],
      "execution_count": 2,
      "outputs": [
        {
          "output_type": "stream",
          "text": [
            "Johanna has 2 apples and Martin has 1 apples\n",
            "Johanna has 2 ideas and Martin has 2 ideas\n"
          ],
          "name": "stdout"
        }
      ]
    },
    {
      "cell_type": "markdown",
      "metadata": {
        "id": "8efaEPjKK-_Y"
      },
      "source": [
        "**Question 3**\n",
        "\n",
        "The City class has the following attributes: name, country (where the city is located), elevation (measured in meters), and population (approximate, according to recent statistics). Fill in the blanks of the max_elevation_city function to return the name of the city and its country (separated by a comma), when comparing the 3 defined instances for a specified minimal population. For example, calling the function for a minimum population of 1 million: max_elevation_city(1000000) should return \"Sofia, Bulgaria\". "
      ]
    },
    {
      "cell_type": "code",
      "metadata": {
        "colab": {
          "base_uri": "https://localhost:8080/"
        },
        "id": "10_8NRcCLF8F",
        "outputId": "028bdf83-537f-42bd-bef6-77c6a59d8850"
      },
      "source": [
        "# define a basic city class\n",
        "class City:\n",
        "\tname = \"\"\n",
        "\tcountry = \"\"\n",
        "\televation = 0 \n",
        "\tpopulation = 0\n",
        "\n",
        "# create a new instance of the City class and\n",
        "# define each attribute\n",
        "city1 = City()\n",
        "city1.name = \"Cusco\"\n",
        "city1.country = \"Peru\"\n",
        "city1.elevation = 3399\n",
        "city1.population = 358052\n",
        "\n",
        "# create a new instance of the City class and\n",
        "# define each attribute\n",
        "city2 = City()\n",
        "city2.name = \"Sofia\"\n",
        "city2.country = \"Bulgaria\"\n",
        "city2.elevation = 2290\n",
        "city2.population = 1241675\n",
        "\n",
        "# create a new instance of the City class and\n",
        "# define each attribute\n",
        "city3 = City()\n",
        "city3.name = \"Seoul\"\n",
        "city3.country = \"South Korea\"\n",
        "city3.elevation = 38\n",
        "city3.population = 9733509\n",
        "\n",
        "def max_elevation_city(min_population):\n",
        "\t# Initialize the variable that will hold \n",
        "# the information of the city with \n",
        "# the highest elevation \n",
        "\treturn_city = City()\n",
        "\n",
        "\t# Evaluate the 1st instance to meet the requirements:\n",
        "\t# does city #1 have at least min_population and\n",
        "\t# is its elevation the highest evaluated so far?\n",
        "\tif min_population <= city1.population:\n",
        "\t\treturn_city = city1\n",
        "\t# Evaluate the 2nd instance to meet the requirements:\n",
        "\t# does city #2 have at least min_population and\n",
        "\t# is its elevation the highest evaluated so far?\n",
        "\tif min_population <= city2.population and city2.elevation >= return_city.elevation:\n",
        "\t\treturn_city = city2\n",
        "\t# Evaluate the 3rd instance to meet the requirements:\n",
        "\t# does city #3 have at least min_population and\n",
        "\t# is its elevation the highest evaluated so far?\n",
        "\tif min_population <= city3.population and city3.elevation >= return_city.elevation:\n",
        "\t\treturn_city = city3\n",
        "\n",
        "\t#Format the return string\n",
        "\tif return_city.name:\n",
        "\t\treturn \"{}, {}\".format(return_city.name, return_city.country)\n",
        "\telse:\n",
        "\t\treturn \"\"\n",
        "\n",
        "print(max_elevation_city(100000)) # Should print \"Cusco, Peru\"\n",
        "print(max_elevation_city(1000000)) # Should print \"Sofia, Bulgaria\"\n",
        "print(max_elevation_city(10000000)) # Should print \"\""
      ],
      "execution_count": 3,
      "outputs": [
        {
          "output_type": "stream",
          "text": [
            "Cusco, Peru\n",
            "Sofia, Bulgaria\n",
            "\n"
          ],
          "name": "stdout"
        }
      ]
    },
    {
      "cell_type": "markdown",
      "metadata": {
        "id": "nsFNTmJhOd1r"
      },
      "source": [
        "**Question 4**\n",
        "\n",
        "What makes an object different from a class?\n",
        "\n",
        "**Answer:** An object is a specific instance of a class."
      ]
    },
    {
      "cell_type": "markdown",
      "metadata": {
        "id": "cpao8P-4Ozo7"
      },
      "source": [
        "**Question 5**\n",
        "\n",
        "We have two pieces of furniture: a brown wood table and a red leather couch. Fill in the blanks following the creation of each Furniture class instance, so that the describe_furniture function can format a sentence that describes these pieces as follows: \"This piece of furniture is made of {color} {material}\""
      ]
    },
    {
      "cell_type": "code",
      "metadata": {
        "colab": {
          "base_uri": "https://localhost:8080/"
        },
        "id": "mmsBS3XSO25R",
        "outputId": "3094bfc5-ff86-45b9-f30b-979f22029266"
      },
      "source": [
        "class Furniture:\n",
        "\tcolor = \"\"\n",
        "\tmaterial = \"\"\n",
        "\n",
        "table = Furniture()\n",
        "table.color = \"brown\"\n",
        "table.material = \"wood\"\n",
        "\n",
        "couch = Furniture()\n",
        "couch.color = \"red\"\n",
        "couch.material = \"leather\"\n",
        "\n",
        "def describe_furniture(piece):\n",
        "\treturn (\"This piece of furniture is made of {} {}\".format(piece.color, piece.material))\n",
        "\n",
        "print(describe_furniture(table)) \n",
        "# Should be \"This piece of furniture is made of brown wood\"\n",
        "print(describe_furniture(couch)) \n",
        "# Should be \"This piece of furniture is made of red leather\""
      ],
      "execution_count": 4,
      "outputs": [
        {
          "output_type": "stream",
          "text": [
            "This piece of furniture is made of brown wood\n",
            "This piece of furniture is made of red leather\n"
          ],
          "name": "stdout"
        }
      ]
    }
  ]
}