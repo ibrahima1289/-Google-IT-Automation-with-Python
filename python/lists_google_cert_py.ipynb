{
  "nbformat": 4,
  "nbformat_minor": 0,
  "metadata": {
    "colab": {
      "name": "lists_google_cert_py.ipynb",
      "provenance": [],
      "authorship_tag": "ABX9TyPOw2tsjjT1SUHkYNVleRhe",
      "include_colab_link": true
    },
    "kernelspec": {
      "name": "python3",
      "display_name": "Python 3"
    },
    "language_info": {
      "name": "python"
    }
  },
  "cells": [
    {
      "cell_type": "markdown",
      "metadata": {
        "id": "view-in-github",
        "colab_type": "text"
      },
      "source": [
        "<a href=\"https://colab.research.google.com/github/ibrahima1289/Python-Codes/blob/main/google%20IT%20automation/python/lists_google_cert_py.ipynb\" target=\"_parent\"><img src=\"https://colab.research.google.com/assets/colab-badge.svg\" alt=\"Open In Colab\"/></a>"
      ]
    },
    {
      "cell_type": "markdown",
      "metadata": {
        "id": "rUUsBpkqUKwB"
      },
      "source": [
        "**Google Certificate - IT Automation with Python.**\n",
        "\n",
        "**Practice Quiz: Lists**"
      ]
    },
    {
      "cell_type": "markdown",
      "metadata": {
        "id": "GvTc-FPKUCso"
      },
      "source": [
        "1. Given a list of filenames, we want to rename all the files with extension hpp to the extension h. To do this, we would like to generate a new list called newfilenames, consisting of the new filenames. Fill in the blanks in the code using any of the methods you’ve learned thus far, like a for loop or a list comprehension."
      ]
    },
    {
      "cell_type": "code",
      "metadata": {
        "colab": {
          "base_uri": "https://localhost:8080/"
        },
        "id": "Q4iJd2d3UGme",
        "outputId": "137042e7-51d0-42fe-f92c-d7b836c1c4ee"
      },
      "source": [
        "filenames = [\"program.c\", \"stdio.hpp\", \"sample.hpp\", \"a.out\", \"math.hpp\", \"hpp.out\"]\n",
        "# Generate newfilenames as a list containing the new filenames\n",
        "# using as many lines of code as your chosen method requires.\n",
        "newfilenames = []\n",
        "for name in filenames:\n",
        "    if name.endswith(\".hpp\"):\n",
        "        newfilenames.append(name.replace(\".hpp\",\".h\"))\n",
        "    else:\n",
        "        newfilenames.append(name)\n",
        "\n",
        "print(newfilenames) \n",
        "# Should be [\"program.c\", \"stdio.h\", \"sample.h\", \"a.out\", \"math.h\", \"hpp.out\"]"
      ],
      "execution_count": 2,
      "outputs": [
        {
          "output_type": "stream",
          "text": [
            "['program.c', 'stdio.h', 'sample.h', 'a.out', 'math.h', 'hpp.out']\n"
          ],
          "name": "stdout"
        }
      ]
    },
    {
      "cell_type": "markdown",
      "metadata": {
        "id": "rh-LpLyeUlTJ"
      },
      "source": [
        "2. Let's create a function that turns text into pig latin: a simple text transformation that modifies each word moving the first character to the end and appending \"ay\" to the end. For example, python ends up as ythonpay."
      ]
    },
    {
      "cell_type": "code",
      "metadata": {
        "colab": {
          "base_uri": "https://localhost:8080/"
        },
        "id": "BtKp3R5XUnXB",
        "outputId": "9fa5f436-fad5-4184-de11-3da96856135f"
      },
      "source": [
        "def pig_latin(text):\n",
        "  say = []\n",
        "  # Separate the text into words\n",
        "  words = text.split()\n",
        "  for word in words:\n",
        "    # Create the pig latin word and add it to the list\n",
        "    word = word[1:] + word[0] + \"ay\"\n",
        "    say.append(word) \n",
        "    # Turn the list back into a phrase\n",
        "  return \" \".join(say)\n",
        "\t\t\n",
        "print(pig_latin(\"hello how are you\")) # Should be \"ellohay owhay reaay ouyay\"\n",
        "print(pig_latin(\"programming in python is fun\")) # Should be \"rogrammingpay niay ythonpay siay unfay\""
      ],
      "execution_count": 3,
      "outputs": [
        {
          "output_type": "stream",
          "text": [
            "ellohay owhay reaay ouyay\n",
            "rogrammingpay niay ythonpay siay unfay\n"
          ],
          "name": "stdout"
        }
      ]
    },
    {
      "cell_type": "markdown",
      "metadata": {
        "id": "Sd2KJ0gyUuwu"
      },
      "source": [
        "3. The permissions of a file in a Linux system are split into three sets of three permissions: read, write, and execute for the owner, group, and others. Each of the three values can be expressed as an octal number summing each permission, with 4 corresponding to read, 2 to write, and 1 to execute. Or it can be written with a string using the letters r, w, and x or - when the permission is not granted.\n",
        "For example: \n",
        "640 is read/write for the owner, read for the group, and no permissions for the others; converted to a string, it would be: \"rw-r-----\"\n",
        "755 is read/write/execute for the owner, and read/execute for group and others; converted to a string, it would be: \"rwxr-xr-x\"\n",
        "Fill in the blanks to make the code convert a permission in octal format into a string format."
      ]
    },
    {
      "cell_type": "code",
      "metadata": {
        "colab": {
          "base_uri": "https://localhost:8080/"
        },
        "id": "pgXlSfzgUzEA",
        "outputId": "e1a097b4-8747-4e6d-ac36-13c4847645d1"
      },
      "source": [
        "def octal_to_string(octal):\n",
        "    result = \"\"\n",
        "    value_letters = [(4,\"r\"),(2,\"w\"),(1,\"x\")]\n",
        "    # Iterate over each of the digits in octal\n",
        "    for i in [int(n) for n in str(octal)]:\n",
        "        # Check for each of the permissions values\n",
        "        for value, letter in value_letters:\n",
        "            if i >= value:\n",
        "                result += letter\n",
        "                i -= value\n",
        "            else:\n",
        "                result += \"-\"\n",
        "    return result\n",
        "    \n",
        "print(octal_to_string(755)) # Should be rwxr-xr-x\n",
        "print(octal_to_string(644)) # Should be rw-r--r--\n",
        "print(octal_to_string(750)) # Should be rwxr-x---\n",
        "print(octal_to_string(600)) # Should be rw-------"
      ],
      "execution_count": 4,
      "outputs": [
        {
          "output_type": "stream",
          "text": [
            "rwxr-xr-x\n",
            "rw-r--r--\n",
            "rwxr-x---\n",
            "rw-------\n"
          ],
          "name": "stdout"
        }
      ]
    },
    {
      "cell_type": "markdown",
      "metadata": {
        "id": "jmsiw4m_U26g"
      },
      "source": [
        "4. Question 4\n",
        "Tuples and lists are very similar types of sequences. What is the main thing that makes a tuple different from a list?\n",
        "\n",
        "* Atuple is immutable."
      ]
    },
    {
      "cell_type": "markdown",
      "metadata": {
        "id": "zSDhWOAJVHvm"
      },
      "source": [
        "5. The group_list function accepts a group name and a list of members, and returns a string with the format: group_name: member1, member2, … For example, group_list(\"g\", [\"a\",\"b\",\"c\"]) returns \"g: a, b, c\". Fill in the gaps in this function to do that."
      ]
    },
    {
      "cell_type": "code",
      "metadata": {
        "colab": {
          "base_uri": "https://localhost:8080/"
        },
        "id": "-EltNRVSU4_o",
        "outputId": "443eabbe-b820-4790-ee9d-9b2c4b65b6e9"
      },
      "source": [
        "def group_list(group, users):\n",
        "  members = \", \".join(users)\n",
        "  return \"{}: {}\".format(group, members)\n",
        "\n",
        "print(group_list(\"Marketing\", [\"Mike\", \"Karen\", \"Jake\", \"Tasha\"])) # Should be \"Marketing: Mike, Karen, Jake, Tasha\"\n",
        "print(group_list(\"Engineering\", [\"Kim\", \"Jay\", \"Tom\"])) # Should be \"Engineering: Kim, Jay, Tom\"\n",
        "print(group_list(\"Users\", \"\")) # Should be \"Users:\""
      ],
      "execution_count": 5,
      "outputs": [
        {
          "output_type": "stream",
          "text": [
            "Marketing: Mike, Karen, Jake, Tasha\n",
            "Engineering: Kim, Jay, Tom\n",
            "Users: \n"
          ],
          "name": "stdout"
        }
      ]
    },
    {
      "cell_type": "markdown",
      "metadata": {
        "id": "JBjgp637Tmbs"
      },
      "source": [
        "6. The guest_list function reads in a list of tuples with the name, age, and profession of each party guest, and prints the sentence \"Guest is X years old and works as __.\" for each one. For example, guest_list(('Ken', 30, \"Chef\"), (\"Pat\", 35, 'Lawyer'), ('Amanda', 25, \"Engineer\")) should print out: Ken is 30 years old and works as Chef. Pat is 35 years old and works as Lawyer. Amanda is 25 years old and works as Engineer. Fill in the gaps in this function to do that. "
      ]
    },
    {
      "cell_type": "code",
      "metadata": {
        "colab": {
          "base_uri": "https://localhost:8080/"
        },
        "id": "Sc5GlBkqTfIL",
        "outputId": "4530737f-5f32-4cf9-9c94-4bda8a250f85"
      },
      "source": [
        "def guest_list(guests):\n",
        "\tfor guest in guests:\n",
        "\t\tname, age, job = guest\n",
        "\t\tprint(\"{} is {} years old and works as {}\".format(name, age, job))\n",
        "\n",
        "guest_list([('Ken', 30, \"Chef\"), (\"Pat\", 35, 'Lawyer'), ('Amanda', 25, \"Engineer\")])\n"
      ],
      "execution_count": 1,
      "outputs": [
        {
          "output_type": "stream",
          "text": [
            "Ken is 30 years old and works as Chef\n",
            "Pat is 35 years old and works as Lawyer\n",
            "Amanda is 25 years old and works as Engineer\n"
          ],
          "name": "stdout"
        }
      ]
    }
  ]
}