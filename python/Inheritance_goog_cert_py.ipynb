{
  "nbformat": 4,
  "nbformat_minor": 0,
  "metadata": {
    "colab": {
      "name": "Inheritance_goog_cert_py.ipynb",
      "provenance": [],
      "authorship_tag": "ABX9TyM6OJdkao+XlNucANpRyart",
      "include_colab_link": true
    },
    "kernelspec": {
      "name": "python3",
      "display_name": "Python 3"
    },
    "language_info": {
      "name": "python"
    }
  },
  "cells": [
    {
      "cell_type": "markdown",
      "metadata": {
        "id": "view-in-github",
        "colab_type": "text"
      },
      "source": [
        "<a href=\"https://colab.research.google.com/github/ibrahima1289/Python-Codes/blob/main/google%20IT%20automation/python/Inheritance_goog_cert_py.ipynb\" target=\"_parent\"><img src=\"https://colab.research.google.com/assets/colab-badge.svg\" alt=\"Open In Colab\"/></a>"
      ]
    },
    {
      "cell_type": "markdown",
      "metadata": {
        "id": "rmJXjRarOmfv"
      },
      "source": [
        "##In this file, I chose few optional exercises."
      ]
    },
    {
      "cell_type": "markdown",
      "metadata": {
        "id": "BEQjDh79J4iS"
      },
      "source": [
        "1. Let’s create a new class together and inherit from it. Below we have a base class called Clothing. Together, let’s create a second class, called Shirt, that inherits methods from the Clothing class. Fill in the blanks to make it work properly."
      ]
    },
    {
      "cell_type": "code",
      "metadata": {
        "colab": {
          "base_uri": "https://localhost:8080/"
        },
        "id": "j9c4RCADJkRH",
        "outputId": "d7739f15-f76c-4b75-b761-7b3a3cc2821f"
      },
      "source": [
        "class Clothing:\n",
        "  material = \"\"\n",
        "  def __init__(self,name):\n",
        "    self.name = name\n",
        "  def checkmaterial(self):\n",
        "\t  print(\"This {} is made of {}\".format(self.name,self.material))\n",
        "\t\t\t\n",
        "class Shirt(Clothing):\n",
        "  material=\"Cotton\"\n",
        "\n",
        "polo = Shirt(\"Polo\")\n",
        "polo.checkmaterial()"
      ],
      "execution_count": 1,
      "outputs": [
        {
          "output_type": "stream",
          "text": [
            "This Polo is made of Cotton\n"
          ],
          "name": "stdout"
        }
      ]
    },
    {
      "cell_type": "markdown",
      "metadata": {
        "id": "ZNkoTO8rLBRo"
      },
      "source": [
        "##**Object Inheritance**\n",
        "In object-oriented programming, the concept of inheritance allows you to build relationships between objects, grouping together similar concepts and reducing code duplication. Let's create a custom Fruit class with color and flavor attributes:"
      ]
    },
    {
      "cell_type": "code",
      "metadata": {
        "id": "1372LRRGLFuN"
      },
      "source": [
        ">>> class Fruit:\n",
        "...     def __init__(self, color, flavor):\n",
        "...         self.color = color\n",
        "...         self.flavor = flavor"
      ],
      "execution_count": 2,
      "outputs": []
    },
    {
      "cell_type": "markdown",
      "metadata": {
        "id": "JmTJVzQsLI-w"
      },
      "source": [
        "We defined a Fruit class with a constructor for color and flavor attributes. Next, we'll define an Apple class along with a new Grape class, both of which we want to inherit properties and behaviors from the Fruit class:"
      ]
    },
    {
      "cell_type": "code",
      "metadata": {
        "id": "R5bJrDvVLLcF"
      },
      "source": [
        ">>> class Apple(Fruit):\n",
        "...     pass\n",
        "... \n",
        ">>> class Grape(Fruit):\n",
        "...     pass"
      ],
      "execution_count": 3,
      "outputs": []
    },
    {
      "cell_type": "markdown",
      "metadata": {
        "id": "I-p2Ezu3LPda"
      },
      "source": [
        "In Python, we use parentheses in the class declaration to have the class inherit from the Fruit class. So in this example, we’re instructing our computer that both the Apple class and Grape class inherit from the Fruit class. This means that they both have the same constructor method which sets the color and flavor attributes. We can now create instances of our Apple and Grape classes:"
      ]
    },
    {
      "cell_type": "code",
      "metadata": {
        "colab": {
          "base_uri": "https://localhost:8080/"
        },
        "id": "tq8WTnhFLSNz",
        "outputId": "519ad7cc-b035-4a06-ef52-ddd3bbc8a35d"
      },
      "source": [
        ">>> granny_smith = Apple(\"green\", \"tart\")\n",
        ">>> carnelian = Grape(\"purple\", \"sweet\")\n",
        ">>> print(granny_smith.flavor)\n",
        ">>> print(carnelian.color)"
      ],
      "execution_count": 5,
      "outputs": [
        {
          "output_type": "stream",
          "text": [
            "tart\n",
            "purple\n"
          ],
          "name": "stdout"
        }
      ]
    },
    {
      "cell_type": "markdown",
      "metadata": {
        "id": "e_2DRyD6Labz"
      },
      "source": [
        "Inheritance allows us to define attributes or methods that are shared by all types of fruit without having to define them in each fruit class individually. We can then also define specific attributes or methods that are only relevant for a specific type of fruit. Let's look at another example, this time with animals:"
      ]
    },
    {
      "cell_type": "code",
      "metadata": {
        "id": "K9_xd0dsLbL_"
      },
      "source": [
        ">>> class Animal:\n",
        "...     sound = \"\"\n",
        "...     def __init__(self, name):\n",
        "...         self.name = name\n",
        "...     def speak(self):\n",
        "...         print(\"{sound} I'm {name}! {sound}\".format(\n",
        "...             name=self.name, sound=self.sound))\n",
        "... \n",
        ">>> class Piglet(Animal):\n",
        "...     sound = \"Oink!\"\n",
        "... \n",
        ">>> class Cow(Animal):\n",
        "...     sound = \"Moooo\""
      ],
      "execution_count": 6,
      "outputs": []
    },
    {
      "cell_type": "markdown",
      "metadata": {
        "id": "Osu4eM8jLfVV"
      },
      "source": [
        "We defined a parent class, Animal, with two animal types inheriting from that class: Piglet and Cow. The parent Animal class has an attribute to store the sound the animal makes, and the constructor class takes the name that will be assigned to the instance when it's created. There is also the speak method, which will print the name of the animal along with the sound it makes. We defined the Piglet and Cow classes, which inherit from the Animal class, and we set the sound attributes for each animal type. Now, we can create instances of our Piglet and Cow classes and have them speak:"
      ]
    },
    {
      "cell_type": "code",
      "metadata": {
        "colab": {
          "base_uri": "https://localhost:8080/"
        },
        "id": "hvSjHZFVLiQ3",
        "outputId": "544e90f2-0d94-40f9-ca79-adba84b8c2cb"
      },
      "source": [
        ">>> hamlet = Piglet(\"Hamlet\")\n",
        ">>> hamlet.speak()\n",
        "... \n",
        ">>> class Cow(Animal):\n",
        "...     sound = \"Moooo\"\n",
        "... \n",
        ">>> milky = Cow(\"Milky White\")\n",
        ">>> milky.speak()"
      ],
      "execution_count": 8,
      "outputs": [
        {
          "output_type": "stream",
          "text": [
            "Oink! I'm Hamlet! Oink!\n",
            "Moooo I'm Milky White! Moooo\n"
          ],
          "name": "stdout"
        }
      ]
    },
    {
      "cell_type": "markdown",
      "metadata": {
        "id": "VBitNmajMCxM"
      },
      "source": [
        "2. Let’s expand a bit on our Clothing classes from the previous in-video question(1). Your mission: Finish the \"Stock_by_Material\" method and iterate over the amount of each item of a given material that is in stock. When you’re finished, the script should add up to 10 cotton Polo shirts."
      ]
    },
    {
      "cell_type": "code",
      "metadata": {
        "colab": {
          "base_uri": "https://localhost:8080/"
        },
        "id": "nfI4zjzJMEAW",
        "outputId": "3dfc9e13-dffe-4f79-85f2-e2dd2d67e2a8"
      },
      "source": [
        "class Clothing:\n",
        "  stock={ 'name': [],'material' :[], 'amount':[]}\n",
        "  def __init__(self,name):\n",
        "    material = \"\"\n",
        "    self.name = name\n",
        "  def add_item(self, name, material, amount):\n",
        "    Clothing.stock['name'].append(self.name)\n",
        "    Clothing.stock['material'].append(self.material)\n",
        "    Clothing.stock['amount'].append(amount)\n",
        "  def Stock_by_Material(self, material):\n",
        "    count=0\n",
        "    n=0\n",
        "    for item in Clothing.stock['material']:\n",
        "      if item == material:\n",
        "        count += Clothing.stock['amount'][n]\n",
        "        n+=1\n",
        "    return count\n",
        "\n",
        "class shirt(Clothing):\n",
        "  material=\"Cotton\"\n",
        "class pants(Clothing):\n",
        "  material=\"Cotton\"\n",
        "  \n",
        "polo = shirt(\"Polo\")\n",
        "sweatpants = pants(\"Sweatpants\")\n",
        "polo.add_item(polo.name, polo.material, 4)\n",
        "sweatpants.add_item(sweatpants.name, sweatpants.material, 6)\n",
        "current_stock = polo.Stock_by_Material(\"Cotton\")\n",
        "print(current_stock)"
      ],
      "execution_count": 9,
      "outputs": [
        {
          "output_type": "stream",
          "text": [
            "10\n"
          ],
          "name": "stdout"
        }
      ]
    },
    {
      "cell_type": "markdown",
      "metadata": {
        "id": "rPaNF43oM8TR"
      },
      "source": [
        "##**Object Composition**\n",
        "You can have a situation where two different classes are related, but there is no inheritance going on. This is referred to as composition -- where one class makes use of code contained in another class. For example, imagine we have a Package class which represents a software package. It contains attributes about the software package, like name, version, and size. We also have a Repository class which represents all the packages available for installation. While there’s no inheritance relationship between the two classes, they are related. The Repository class will contain a dictionary or list of Packages that are contained in the repository. Let's take a look at an example Repository class definition:"
      ]
    },
    {
      "cell_type": "code",
      "metadata": {
        "id": "NCbX3xs_NAMm"
      },
      "source": [
        ">>> class Repository:\n",
        "...      def __init__(self):\n",
        "...          self.packages = {}\n",
        "...      def add_package(self, package):\n",
        "...          self.packages[package.name] = package\n",
        "...      def total_size(self):\n",
        "...          result = 0\n",
        "...          for package in self.packages.values():\n",
        "...              result += package.size\n",
        "...          return result"
      ],
      "execution_count": 14,
      "outputs": []
    }
  ]
}