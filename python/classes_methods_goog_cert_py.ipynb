{
  "nbformat": 4,
  "nbformat_minor": 0,
  "metadata": {
    "colab": {
      "name": "classes_methods_goog_cert_py.ipynb",
      "provenance": [],
      "authorship_tag": "ABX9TyODXxb6IJ4yPYcG1LSU6J4J",
      "include_colab_link": true
    },
    "kernelspec": {
      "name": "python3",
      "display_name": "Python 3"
    },
    "language_info": {
      "name": "python"
    }
  },
  "cells": [
    {
      "cell_type": "markdown",
      "metadata": {
        "id": "view-in-github",
        "colab_type": "text"
      },
      "source": [
        "<a href=\"https://colab.research.google.com/github/ibrahima1289/Python-Codes/blob/main/google%20IT%20automation/python/classes_methods_goog_cert_py.ipynb\" target=\"_parent\"><img src=\"https://colab.research.google.com/assets/colab-badge.svg\" alt=\"Open In Colab\"/></a>"
      ]
    },
    {
      "cell_type": "markdown",
      "metadata": {
        "id": "TjvEzENZnFcT"
      },
      "source": [
        "**Google Certificate - IT Automation with Python.**\n",
        "\n",
        "**Quiz Practice and documentation: Classes and Methods (OOP)**"
      ]
    },
    {
      "cell_type": "markdown",
      "metadata": {
        "id": "OhPCcHb0nALc"
      },
      "source": [
        "1. Create a Dog class with dog_years based on the Piglet class shown before (one human year is about 7 dog years)."
      ]
    },
    {
      "cell_type": "code",
      "metadata": {
        "colab": {
          "base_uri": "https://localhost:8080/"
        },
        "id": "j9QqWDgbm-ao",
        "outputId": "d2864b80-ef20-4a5d-c8f2-835860908699"
      },
      "source": [
        "class Dog:\n",
        "  years = 0\n",
        "  def dog_years(self):\n",
        "    return self.years * 7\n",
        "    \n",
        "fido=Dog()\n",
        "fido.years=3\n",
        "print(fido.dog_years())"
      ],
      "execution_count": null,
      "outputs": [
        {
          "output_type": "stream",
          "text": [
            "21\n"
          ],
          "name": "stdout"
        }
      ]
    },
    {
      "cell_type": "markdown",
      "metadata": {
        "id": "QDVIXD5rnT_E"
      },
      "source": [
        "2.  In this code, there's a Person class that has an attribute name, which gets set when constructing the object. Fill in the blanks so that 1) when an instance of the class is created, the attribute gets set correctly, and 2) when the greeting() method is called, the greeting states the assigned name."
      ]
    },
    {
      "cell_type": "code",
      "metadata": {
        "colab": {
          "base_uri": "https://localhost:8080/"
        },
        "id": "3Un_MnK1nzDP",
        "outputId": "b1c3faff-2fa9-4861-a91b-ee3bf5f72681"
      },
      "source": [
        "class Person:\n",
        "    def __init__(self, name):\n",
        "        self.name = name\n",
        "    def greeting(self):\n",
        "        # Should return \"hi, my name is \" followed by the name of the Person.\n",
        "        say = \"hi, my name is {}.\".format(self.name) \n",
        "        return say \n",
        "\n",
        "# Create a new instance with a name of your choice\n",
        "some_person = Person(\"Shakespeare\")  \n",
        "# Call the greeting method\n",
        "print(some_person.greeting())"
      ],
      "execution_count": null,
      "outputs": [
        {
          "output_type": "stream",
          "text": [
            "hi, my name is Shakespeare.\n"
          ],
          "name": "stdout"
        }
      ]
    },
    {
      "cell_type": "markdown",
      "metadata": {
        "id": "r47IShpusmX4"
      },
      "source": [
        "2. Remember our Person class from the last video? (#1 in this document) Let’s add a docstring to the greeting method. How about, “Outputs a message with the name of the person”."
      ]
    },
    {
      "cell_type": "code",
      "metadata": {
        "colab": {
          "base_uri": "https://localhost:8080/"
        },
        "id": "ezFh5SlTqB3_",
        "outputId": "7a51753c-5dfd-45e9-fe03-a5885066e6bb"
      },
      "source": [
        "class Person:\n",
        "  def __init__(self, name):\n",
        "    self.name = name\n",
        "  def greeting(self):\n",
        "    \"\"\" Outputs a message with the name of the person \"\"\"\n",
        "    print(\"Hello! My name is {name}.\".format(name=self.name)) \n",
        "\n",
        "  help(greeting)"
      ],
      "execution_count": null,
      "outputs": [
        {
          "output_type": "stream",
          "text": [
            "Help on function greeting in module __main__:\n",
            "\n",
            "greeting(self)\n",
            "    Outputs a message with the name of the person\n",
            "\n"
          ],
          "name": "stdout"
        }
      ]
    },
    {
      "cell_type": "markdown",
      "metadata": {
        "id": "zhjcYZ9ts2Wi"
      },
      "source": [
        "###**Documenting with Docstrings**\n",
        "\n",
        "The Python help function can be super helpful for easily pulling up documentation for classes and methods. We can call the help function on one of our classes, which will return some basic info about the methods defined in our class:"
      ]
    },
    {
      "cell_type": "code",
      "metadata": {
        "id": "iKu03PLytJw7"
      },
      "source": [
        ">>> class Apple:\n",
        "...     def __init__(self, color, flavor):\n",
        "...         self.color = color\n",
        "...         self.flavor = flavor\n",
        "...     def __str__(self):\n",
        "...         return \"This apple is {} and its flavor is {}\".format(self.color, self.flavor)\n",
        "... \n",
        ">>> help(Apple)\n",
        "Help on class Apple in module __main__:\n",
        "\n",
        "class Apple(builtins.object)\n",
        " |  Methods defined here:\n",
        " |  \n",
        " |  __init__(self, color, flavor)\n",
        " |      Initialize self.  See help(type(self)) for accurate signature.\n",
        " |  \n",
        " |  __str__(self)\n",
        " |      Return str(self).\n",
        " |  \n",
        " |  ----------------------------------------------------------------------\n",
        " |  Data descriptors defined here:\n",
        " |  \n",
        " |  __dict__\n",
        " |      dictionary for instance variables (if defined)\n",
        " |  \n",
        " |  __weakref__\n",
        " |      list of weak references to the object (if defined)"
      ],
      "execution_count": null,
      "outputs": []
    },
    {
      "cell_type": "markdown",
      "metadata": {
        "id": "61OfGLS5tTi0"
      },
      "source": [
        "We can add documentation to our own classes, methods, and functions using docstrings. A docstring is a short text explanation of what something does. You can add a docstring to a method, function, or class by first defining it, then adding a description inside triple quotes. Let's take the example of this function:"
      ]
    },
    {
      "cell_type": "code",
      "metadata": {
        "id": "mi4rcLvotU9k"
      },
      "source": [
        ">>> def to_seconds(hours, minutes, seconds):\n",
        "...     \"\"\"Returns the amount of seconds in the given hours, minutes and seconds.\"\"\"\n",
        "...     return hours*3600+minutes*60+seconds"
      ],
      "execution_count": null,
      "outputs": []
    },
    {
      "cell_type": "markdown",
      "metadata": {
        "id": "F4wfKhpItb-Q"
      },
      "source": [
        "We have our function called to_seconds on the first line, followed by the docstring which is indented to the right and wrapped in triple quotes. Last up is the function body. Now, when we call the help function on our to_seconds function, we get a handy description of what the function does:"
      ]
    },
    {
      "cell_type": "code",
      "metadata": {
        "id": "vHB7gWHltejk"
      },
      "source": [
        ">>> help(to_seconds)\n",
        "Help on function to_seconds in module __main__:\n",
        "\n",
        "to_seconds(hours, minutes, seconds)\n",
        "    Returns the amount of seconds in the given hours, minutes and seconds."
      ],
      "execution_count": null,
      "outputs": []
    },
    {
      "cell_type": "markdown",
      "metadata": {
        "id": "_KTe9dzGtfoI"
      },
      "source": [
        "Docstrings are super useful for documenting our custom classes, methods, and functions, but also when working with new libraries or functions. You'll be extremely grateful for docstrings when you have to work with code that someone else wrote!"
      ]
    },
    {
      "cell_type": "markdown",
      "metadata": {
        "id": "B82K042Ftku5"
      },
      "source": [
        "###**Classes and Methods Cheat Sheet (Optional)**\n",
        "\n",
        "**Classes and Methods Cheat Sheet**\n",
        "\n",
        "In the past few videos, we’ve seen how to define classes and methods in Python. Here, you’ll find a run-down of everything we’ve covered, so you can refer to it whenever you need a refresher.\n",
        "\n",
        "**Defining classes and methods**"
      ]
    },
    {
      "cell_type": "code",
      "metadata": {
        "id": "afr1cj4Wt6Hw"
      },
      "source": [
        "class ClassName:\n",
        "    def method_name(self, other_parameters):\n",
        "        body_of_method"
      ],
      "execution_count": null,
      "outputs": []
    },
    {
      "cell_type": "markdown",
      "metadata": {
        "id": "NKbnjlrlt7A6"
      },
      "source": [
        "**Classes and Instances**\n",
        "\n",
        "* Classes define the behavior of all instances of a specific class.\n",
        "\n",
        "* Each variable of a specific class is an instance or object.\n",
        "\n",
        "* Objects can have attributes, which store information about the object.\n",
        "\n",
        "* You can make objects do work by calling their methods.\n",
        "\n",
        "* The first parameter of the methods (self) represents the current instance.\n",
        "\n",
        "* Methods are just like functions, but they can only be used through a class.\n",
        "\n",
        "**Special methods**\n",
        "* Special methods start and end with __.\n",
        "\n",
        "* Special methods have specific names, like **\\__init__** for the constructor or **\\__str__** for the conversion to string.\n",
        "\n",
        "**Documenting classes, methods and functions**\n",
        "\n",
        "You can add documentation to classes, methods, and functions by using docstrings right after the definition. Like this:"
      ]
    },
    {
      "cell_type": "code",
      "metadata": {
        "id": "LHVWUn1jwQg9"
      },
      "source": [
        "class ClassName:\n",
        "    \"\"\"Documentation for the class.\"\"\"\n",
        "    def method_name(self, other_parameters):\n",
        "        \"\"\"Documentation for the method.\"\"\"\n",
        "        body_of_method\n",
        "        \n",
        "def function_name(parameters):\n",
        "    \"\"\"Documentation for the function.\"\"\"\n",
        "    body_of_function\n"
      ],
      "execution_count": null,
      "outputs": []
    }
  ]
}