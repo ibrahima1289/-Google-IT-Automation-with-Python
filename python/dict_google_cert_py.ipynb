{
  "nbformat": 4,
  "nbformat_minor": 0,
  "metadata": {
    "colab": {
      "name": "Untitled1.ipynb",
      "provenance": [],
      "authorship_tag": "ABX9TyMhyG10je/j3ak5Oq9vdy5P",
      "include_colab_link": true
    },
    "kernelspec": {
      "name": "python3",
      "display_name": "Python 3"
    },
    "language_info": {
      "name": "python"
    }
  },
  "cells": [
    {
      "cell_type": "markdown",
      "metadata": {
        "id": "view-in-github",
        "colab_type": "text"
      },
      "source": [
        "<a href=\"https://colab.research.google.com/github/ibrahima1289/Python-Codes/blob/main/google%20IT%20automation/python/dict_google_cert_py.ipynb\" target=\"_parent\"><img src=\"https://colab.research.google.com/assets/colab-badge.svg\" alt=\"Open In Colab\"/></a>"
      ]
    },
    {
      "cell_type": "markdown",
      "metadata": {
        "id": "tCDiPPlV1AAc"
      },
      "source": [
        "**Google Certificate - IT Automation with Python.**\n",
        "\n",
        "**Practice Quiz: Dictionaries**"
      ]
    },
    {
      "cell_type": "markdown",
      "metadata": {
        "id": "3i4bucad6k00"
      },
      "source": [
        "1. Complete the code to iterate through the keys and values of the cool_beasts dictionary. Remember that the items method returns a tuple of key, value for each element in the dictionary."
      ]
    },
    {
      "cell_type": "code",
      "metadata": {
        "colab": {
          "base_uri": "https://localhost:8080/"
        },
        "id": "X22qBSGy6nQt",
        "outputId": "5f8311f2-6a55-4bad-d66e-c46577e696e2"
      },
      "source": [
        "cool_beasts = {\"octopuses\":\"tentacles\", \"dolphins\":\"fins\", \"rhinos\":\"horns\"}\n",
        "for values, keys in cool_beasts.items():\n",
        "    print(\"{} have {}\".format(values, keys))"
      ],
      "execution_count": 2,
      "outputs": [
        {
          "output_type": "stream",
          "text": [
            "octopuses have tentacles\n",
            "dolphins have fins\n",
            "rhinos have horns\n"
          ],
          "name": "stdout"
        }
      ]
    },
    {
      "cell_type": "markdown",
      "metadata": {
        "id": "QLT9igTI6WIB"
      },
      "source": [
        "2. In Python, a dictionary can only hold a single value for a given key. To workaround this, our single value can be a list containing multiple values. Here we have a dictionary called \"wardrobe\" with items of clothing and their colors. Fill in the blanks to print a line for each item of clothing with each color, for example: \"red shirt\", \"blue shirt\", and so on."
      ]
    },
    {
      "cell_type": "code",
      "metadata": {
        "colab": {
          "base_uri": "https://localhost:8080/"
        },
        "id": "OT-2vt2w08dq",
        "outputId": "47d945fb-9ace-4ab2-f441-5db03dac7387"
      },
      "source": [
        "wardrobe = {\"shirt\":[\"red\",\"blue\",\"white\"], \"jeans\":[\"blue\",\"black\"]}\n",
        "for values in wardrobe:\n",
        "\tfor keys in wardrobe[values]:\n",
        "\t\tprint(\"{} {}\".format(keys, values))"
      ],
      "execution_count": 1,
      "outputs": [
        {
          "output_type": "stream",
          "text": [
            "red shirt\n",
            "blue shirt\n",
            "white shirt\n",
            "blue jeans\n",
            "black jeans\n"
          ],
          "name": "stdout"
        }
      ]
    },
    {
      "cell_type": "markdown",
      "metadata": {
        "id": "7DRtJ-nK603n"
      },
      "source": [
        "3. Question 1\n",
        "\n",
        "  The email_list function receives a dictionary, which contains domain names as keys, and a list of users as values. Fill in the blanks to generate a list that contains complete email addresses (e.g. diana.prince@gmail.com)."
      ]
    },
    {
      "cell_type": "code",
      "metadata": {
        "colab": {
          "base_uri": "https://localhost:8080/"
        },
        "id": "B0FtVybl95Ix",
        "outputId": "fbf7c4b2-40b9-474e-da07-87cf10b3c283"
      },
      "source": [
        "def email_list(domains):\n",
        "\temails = []\n",
        "\tfor domain, users in domains.items():\n",
        "\t  for user in users:\n",
        "\t    emails.append(user+\"@\"+domain)\n",
        "\treturn(emails)\n",
        "\n",
        "print(email_list({\"gmail.com\": [\"clark.kent\", \"diana.prince\", \"peter.parker\"], \"yahoo.com\": [\"barbara.gordon\", \"jean.grey\"], \"hotmail.com\": [\"bruce.wayne\"]}))"
      ],
      "execution_count": 3,
      "outputs": [
        {
          "output_type": "stream",
          "text": [
            "['clark.kent@gmail.com', 'diana.prince@gmail.com', 'peter.parker@gmail.com', 'barbara.gordon@yahoo.com', 'jean.grey@yahoo.com', 'bruce.wayne@hotmail.com']\n"
          ],
          "name": "stdout"
        }
      ]
    },
    {
      "cell_type": "markdown",
      "metadata": {
        "id": "XQJHQ6fo-T4Y"
      },
      "source": [
        "4. Question 2\n",
        "\n",
        "  The groups_per_user function receives a dictionary, which contains group names with the list of users. Users can belong to multiple groups. Fill in the blanks to return a dictionary with the users as keys and a list of their groups as values."
      ]
    },
    {
      "cell_type": "code",
      "metadata": {
        "colab": {
          "base_uri": "https://localhost:8080/"
        },
        "id": "rwanlYwM-dKF",
        "outputId": "2dc2a34f-861c-43f6-de26-1c360468c8ca"
      },
      "source": [
        "def groups_per_user(group_dictionary):\n",
        "\tuser_groups = {}\n",
        "\t# Go through group_dictionary\n",
        "\tfor group, users in group_dictionary.items():\n",
        "\t\t# Now go through the users in the group\n",
        "\t\tfor user in users:\n",
        "\t\t\t# Now add the group to the the list of\n",
        "\t\t\t# groups for this user, creating the entry\n",
        "\t\t\t# in the dictionary if necessary\n",
        "\t\t\t\n",
        "\t\t\tif user not in user_groups:\n",
        "\t\t\t\tuser_groups[user] = []\n",
        "\t\t\t\tuser_groups[user].append(group)\n",
        "\treturn(user_groups)\n",
        "\n",
        "print(groups_per_user({\"local\": [\"admin\", \"userA\"],\n",
        "                       \"public\":  [\"admin\", \"userB\"],\n",
        "                       \"administrator\": [\"admin\"] }))"
      ],
      "execution_count": 4,
      "outputs": [
        {
          "output_type": "stream",
          "text": [
            "{'admin': ['local'], 'userA': ['local'], 'userB': ['public']}\n"
          ],
          "name": "stdout"
        }
      ]
    },
    {
      "cell_type": "markdown",
      "metadata": {
        "id": "XKLYHU_uAWNa"
      },
      "source": [
        "4. Question 3\n",
        "\n",
        "  The dict.update method updates one dictionary with the items coming from the other dictionary, so that existing entries are replaced and new entries are added. What is the content of the dictionary “wardrobe“ at the end of the following code?\n",
        "\n",
        "  *wardrobe = {'shirt': ['red', 'blue', 'white'], 'jeans': ['blue', 'black']}*\n",
        "  \n",
        "  *new_items = {'jeans': ['white'], 'scarf': ['yellow'], 'socks': ['black', 'brown']}*\n",
        "  \n",
        "  *wardrobe.update(new_items)*\n",
        "\n",
        "  **Answer:**\n",
        "\n",
        " *wardrobe = {'shirt': ['red', 'blue', 'white'], 'jeans': ['white'], socks': ['black', 'brown']}*\n",
        "\n",
        "**The reason is that** \"*dict.update(other_dictionary) - Updates the dictionary with the items coming from the other dictionary. \n",
        "\t   Existing entries will be replaced; new entries will be added.*\""
      ]
    },
    {
      "cell_type": "markdown",
      "metadata": {
        "id": "yZOARpylB_z-"
      },
      "source": [
        "5. Question 4\n",
        "\n",
        "What’s a major advantage of using dictionaries over lists?\n",
        "\n",
        "**Answer:** It's quicker and easier to find a specific element in a dictionary."
      ]
    },
    {
      "cell_type": "markdown",
      "metadata": {
        "id": "uBncWrDiDFiu"
      },
      "source": [
        "6. Question 5\n",
        "\n",
        "  The add_prices function returns the total price of all of the groceries in the  dictionary. Fill in the blanks to complete this function."
      ]
    },
    {
      "cell_type": "code",
      "metadata": {
        "colab": {
          "base_uri": "https://localhost:8080/"
        },
        "id": "7RR5vaS8DNjU",
        "outputId": "07b0b78d-ec3e-4445-8005-fed4cde50d45"
      },
      "source": [
        "def add_prices(basket):\n",
        "\t# Initialize the variable that will be used for the calculation\n",
        "\ttotal = 0\n",
        "\t# Iterate through the dictionary items\n",
        "\tfor cost in basket.values():\n",
        "\t\t# Add each price to the total calculation\n",
        "\t\t# Hint: how do you access the values of\n",
        "\t\t# dictionary items?\n",
        "\t\ttotal += cost\n",
        "\t# Limit the return value to 2 decimal places\n",
        "\treturn round(total, 2)  \n",
        "\n",
        "groceries = {\"bananas\": 1.56, \"apples\": 2.50, \"oranges\": 0.99, \"bread\": 4.59, \n",
        "\t\"coffee\": 6.99, \"milk\": 3.39, \"eggs\": 2.98, \"cheese\": 5.44}\n",
        "\n",
        "print(add_prices(groceries)) # Should print 28.44"
      ],
      "execution_count": 5,
      "outputs": [
        {
          "output_type": "stream",
          "text": [
            "28.44\n"
          ],
          "name": "stdout"
        }
      ]
    }
  ]
}