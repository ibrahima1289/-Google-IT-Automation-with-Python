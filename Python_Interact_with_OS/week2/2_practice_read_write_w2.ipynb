{
  "nbformat": 4,
  "nbformat_minor": 0,
  "metadata": {
    "colab": {
      "name": "2.practice_read_write-w2.ipynb",
      "provenance": [],
      "authorship_tag": "ABX9TyO4vZVnl/Xb8RBgdiNp1nsc",
      "include_colab_link": true
    },
    "kernelspec": {
      "name": "python3",
      "display_name": "Python 3"
    },
    "language_info": {
      "name": "python"
    }
  },
  "cells": [
    {
      "cell_type": "markdown",
      "metadata": {
        "id": "view-in-github",
        "colab_type": "text"
      },
      "source": [
        "<a href=\"https://colab.research.google.com/github/ibrahima1289/Google-IT-Automation-with-Python/blob/main/Python_Interact_with_OS/week2/2_practice_read_write_w2.ipynb\" target=\"_parent\"><img src=\"https://colab.research.google.com/assets/colab-badge.svg\" alt=\"Open In Colab\"/></a>"
      ]
    },
    {
      "cell_type": "markdown",
      "source": [
        "**Score is 80%**\n",
        "*Not sure.*"
      ],
      "metadata": {
        "id": "6jQcU92cczZZ"
      }
    },
    {
      "cell_type": "markdown",
      "source": [
        "1. We're working with a list of flowers and some information about each one. The create_file function writes this information to a CSV file. The contents_of_file function reads this file into records and returns the information in a nicely formatted block. Fill in the gaps of the contents_of_file function to turn the data in the CSV file into a dictionary using DictReader."
      ],
      "metadata": {
        "id": "MR9sLDZxZOn-"
      }
    },
    {
      "cell_type": "code",
      "execution_count": 1,
      "metadata": {
        "colab": {
          "base_uri": "https://localhost:8080/"
        },
        "id": "1mdAGIm3ZMkq",
        "outputId": "02c08b82-573c-4b2a-eed0-e8f208dc76d0"
      },
      "outputs": [
        {
          "output_type": "stream",
          "name": "stdout",
          "text": [
            "a pink carnation is annual\n",
            "a yellow daffodil is perennial\n",
            "a blue iris is perennial\n",
            "a red poinsettia is perennial\n",
            "a yellow sunflower is annual\n",
            "\n"
          ]
        }
      ],
      "source": [
        "import os\n",
        "import csv\n",
        "\n",
        "# Create a file with data in it\n",
        "def create_file(filename):\n",
        "  with open(filename, \"w\") as file:\n",
        "    file.write(\"name,color,type\\n\")\n",
        "    file.write(\"carnation,pink,annual\\n\")\n",
        "    file.write(\"daffodil,yellow,perennial\\n\")\n",
        "    file.write(\"iris,blue,perennial\\n\")\n",
        "    file.write(\"poinsettia,red,perennial\\n\")\n",
        "    file.write(\"sunflower,yellow,annual\\n\")\n",
        "\n",
        "# Read the file contents and format the information about each row\n",
        "def contents_of_file(filename):\n",
        "  return_string = \"\"\n",
        "\n",
        "  # Call the function to create the file \n",
        "  create_file(filename)\n",
        "\n",
        "  # Open the file\n",
        "  with open(filename) as file:\n",
        "    # Read the rows of the file into a dictionary\n",
        "    reader = csv.DictReader(file)\n",
        "    # Process each item of the dictionary\n",
        "    for row in reader:\n",
        "      return_string += \"a {} {} is {}\\n\".format(row[\"color\"], row[\"name\"], row[\"type\"])\n",
        "  return return_string\n",
        "\n",
        "#Call the function\n",
        "print(contents_of_file(\"flowers.csv\"))"
      ]
    },
    {
      "cell_type": "markdown",
      "source": [
        "2. Using the CSV file of flowers again, fill in the gaps of the contents_of_file function to process the data without turning it into a dictionary. How do you skip over the header record with the field names"
      ],
      "metadata": {
        "id": "aNtnpX5bad2u"
      }
    },
    {
      "cell_type": "code",
      "source": [
        "import os\n",
        "import csv\n",
        "\n",
        "# Create a file with data in it\n",
        "def create_file(filename):\n",
        "  with open(filename, \"w\") as file:\n",
        "    file.write(\"name,color,type\\n\")\n",
        "    file.write(\"carnation,pink,annual\\n\")\n",
        "    file.write(\"daffodil,yellow,perennial\\n\")\n",
        "    file.write(\"iris,blue,perennial\\n\")\n",
        "    file.write(\"poinsettia,red,perennial\\n\")\n",
        "    file.write(\"sunflower,yellow,annual\\n\")\n",
        "\n",
        "# Read the file contents and format the information about each row\n",
        "def contents_of_file(filename):\n",
        "  return_string = \"\"\n",
        "\n",
        "  # Call the function to create the file \n",
        "  create_file(filename)\n",
        "\n",
        "  # Open the file\n",
        "  with open(filename, \"r\") as file:\n",
        "    # Read the rows of the file\n",
        "    rows = csv.reader(file)\n",
        "    # Process each row\n",
        "    for row in list(rows)[1:]:\n",
        "      name, color, types = row\n",
        "      # Format the return string for data rows only\n",
        "      return_string += \"a {} {} is {}\\n\".format(color, name, types)\n",
        "  return return_string\n",
        "\n",
        "#Call the function\n",
        "print(contents_of_file(\"flowers.csv\"))"
      ],
      "metadata": {
        "colab": {
          "base_uri": "https://localhost:8080/"
        },
        "id": "4M7k4T-Taz2R",
        "outputId": "f66c9c02-967f-4606-ee69-0d6a812e4571"
      },
      "execution_count": 4,
      "outputs": [
        {
          "output_type": "stream",
          "name": "stdout",
          "text": [
            "a pink carnation is annual\n",
            "a yellow daffodil is perennial\n",
            "a blue iris is perennial\n",
            "a red poinsettia is perennial\n",
            "a yellow sunflower is annual\n",
            "\n"
          ]
        }
      ]
    },
    {
      "cell_type": "markdown",
      "source": [
        "3. In order to use the writerows() function of DictWriter() to write a list of dictionaries to each line of a CSV file, what steps should we take? (Check all that apply)\n",
        "\n",
        "* Create an instance of the DictWriter() class\n",
        "* Write the fieldnames parameter into the first row using writeheader()\n",
        "* Open the csv file using with open\n",
        "Import the OS module"
      ],
      "metadata": {
        "id": "2ijBPlGGcRyN"
      }
    },
    {
      "cell_type": "markdown",
      "source": [
        "4. Which of the following is true about unpacking values into variables when reading rows of a CSV file? (Check all that apply)\n",
        "\n",
        "* We need the same amount of variables as there are columns of data in the CSV\n",
        "* Rows can be read using both csv.reader and csv.DictReader\n",
        "* An instance of the reader class must be created first"
      ],
      "metadata": {
        "id": "V-ZDqgl1cXyu"
      }
    },
    {
      "cell_type": "markdown",
      "source": [
        "5. If we are analyzing a file's contents to correctly structure its data, what action are we performing on the file?\n",
        "\n",
        "* Parsing"
      ],
      "metadata": {
        "id": "Ta8H3l4Vclp2"
      }
    }
  ]
}