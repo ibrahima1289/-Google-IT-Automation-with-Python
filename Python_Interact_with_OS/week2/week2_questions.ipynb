{
  "nbformat": 4,
  "nbformat_minor": 0,
  "metadata": {
    "colab": {
      "name": "week2_questions.ipynb",
      "provenance": [],
      "authorship_tag": "ABX9TyPJlbSVf/BIA4jXK4IO200V",
      "include_colab_link": true
    },
    "kernelspec": {
      "name": "python3",
      "display_name": "Python 3"
    },
    "language_info": {
      "name": "python"
    }
  },
  "cells": [
    {
      "cell_type": "markdown",
      "metadata": {
        "id": "view-in-github",
        "colab_type": "text"
      },
      "source": [
        "<a href=\"https://colab.research.google.com/github/ibrahima1289/Google-IT-Automation-with-Python/blob/main/Python_Interact_with_OS/week2/week2_questions.ipynb\" target=\"_parent\"><img src=\"https://colab.research.google.com/assets/colab-badge.svg\" alt=\"Open In Colab\"/></a>"
      ]
    },
    {
      "cell_type": "markdown",
      "metadata": {
        "id": "TeQ_pVW4uVxp"
      },
      "source": [
        "**Question 1**\n",
        "\n",
        "This code will open a file and print lines one by one without whitespace."
      ]
    },
    {
      "cell_type": "code",
      "metadata": {
        "id": "wVbtTqK7Wx4M"
      },
      "source": [
        "with open(\"hello_world.txt\") as text:\n",
        "    for line in text:\n",
        "\t    print(line.strip())"
      ],
      "execution_count": null,
      "outputs": []
    },
    {
      "cell_type": "markdown",
      "metadata": {
        "id": "y3xXLORuWfYX"
      },
      "source": [
        "**Question 2**\n",
        "\n",
        "Some more functions of the os.path module include getsize() and isfile() which get information on the file size and determine if a file exists, respectively. In the following code snippet, what do you think will print if the file does not exist?"
      ]
    },
    {
      "cell_type": "code",
      "metadata": {
        "id": "gM2YdKZLWj79"
      },
      "source": [
        "import os\n",
        "file= \"file.dat\"\n",
        "if os.path.isfile(file):\n",
        "    print(os.path.isfile(file))\n",
        "    print(os.path.getsize(file))\n",
        "else:\n",
        "\tprint(os.path.isfile(file))\n",
        "    print(\"File not found\")"
      ],
      "execution_count": null,
      "outputs": []
    },
    {
      "cell_type": "markdown",
      "metadata": {
        "id": "1Cpx0uEoWnSq"
      },
      "source": [
        "**Answer**: File not found"
      ]
    }
  ]
}