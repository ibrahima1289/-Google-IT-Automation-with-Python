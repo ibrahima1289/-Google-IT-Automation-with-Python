{
  "nbformat": 4,
  "nbformat_minor": 0,
  "metadata": {
    "colab": {
      "name": "practice_quiz_w2.ipynb",
      "provenance": [],
      "authorship_tag": "ABX9TyN9d/9RTfv5SXX2A6zyxvXg",
      "include_colab_link": true
    },
    "kernelspec": {
      "name": "python3",
      "display_name": "Python 3"
    },
    "language_info": {
      "name": "python"
    }
  },
  "cells": [
    {
      "cell_type": "markdown",
      "metadata": {
        "id": "view-in-github",
        "colab_type": "text"
      },
      "source": [
        "<a href=\"https://colab.research.google.com/github/ibrahima1289/Google-IT-Automation-with-Python/blob/main/Python_Interact_with_OS/week2/practice_quiz_w2.ipynb\" target=\"_parent\"><img src=\"https://colab.research.google.com/assets/colab-badge.svg\" alt=\"Open In Colab\"/></a>"
      ]
    },
    {
      "cell_type": "markdown",
      "metadata": {
        "id": "63ahM13BcNLk"
      },
      "source": [
        "## Practice Quiz: Managing Files & Directories"
      ]
    },
    {
      "cell_type": "markdown",
      "metadata": {
        "id": "czhgbcaNYp7o"
      },
      "source": [
        "**Question 1**\n",
        "\n",
        "The create_python_script function creates a new python script in the current working directory, adds the line of comments to it declared  by the 'comments' variable, and returns the size of the new file. Fill in the gaps to create a script called \"program.py\"."
      ]
    },
    {
      "cell_type": "code",
      "metadata": {
        "colab": {
          "base_uri": "https://localhost:8080/"
        },
        "id": "VFKfzADSYeCq",
        "outputId": "992ac1e0-c962-4d00-c1c9-2e43c8104093"
      },
      "source": [
        "def create_python_script(filename):\n",
        "  comments = \"# Start of a new Python program\"\n",
        "  with open(filename, 'w') as file:\n",
        "    filesize = file.write(comments)\n",
        "  return(filesize)\n",
        "\n",
        "print(create_python_script(\"program.py\"))"
      ],
      "execution_count": 1,
      "outputs": [
        {
          "output_type": "stream",
          "name": "stdout",
          "text": [
            "31\n"
          ]
        }
      ]
    },
    {
      "cell_type": "markdown",
      "metadata": {
        "id": "Cvn31M8aZeBx"
      },
      "source": [
        "**Question 2**\n",
        "\n",
        "The new_directory function creates a new directory inside the current working directory, then creates a new empty file inside the new directory, and returns the list of files in that directory. Fill in the gaps to create a file \"script.py\" in the directory \"PythonPrograms\". "
      ]
    },
    {
      "cell_type": "code",
      "metadata": {
        "colab": {
          "base_uri": "https://localhost:8080/"
        },
        "id": "O-oRLK9eZktA",
        "outputId": "8a8c6b3f-0fcc-422b-a2e6-5632a03d97fa"
      },
      "source": [
        "import os\n",
        "\n",
        "def new_directory(directory, filename):\n",
        "  # Before creating a new directory, check to see if it already exists\n",
        "  if os.path.isdir(directory) == False:\n",
        "    os.mkdir(directory)\n",
        "\n",
        "  # Create the new file inside of the new directory\n",
        "  os.chdir(directory)\n",
        "  with open (filename, 'w') as file:\n",
        "    file.write(\"\")\n",
        "\n",
        "  # Return the list of files in the new directory\n",
        "  os.chdir('..')\n",
        "  return os.listdir(directory)\n",
        "\n",
        "print(new_directory(\"PythonPrograms\", \"script.py\"))"
      ],
      "execution_count": 2,
      "outputs": [
        {
          "output_type": "stream",
          "name": "stdout",
          "text": [
            "['script.py']\n"
          ]
        }
      ]
    },
    {
      "cell_type": "markdown",
      "metadata": {
        "id": "ByGcIEkqaZD_"
      },
      "source": [
        "**Question 3**\n",
        "\n",
        "Which of the following methods from the os module will create a new directory?\n",
        "\n",
        "**Answer:** mkdir()"
      ]
    },
    {
      "cell_type": "markdown",
      "metadata": {
        "id": "_XrrN2WFaiTW"
      },
      "source": [
        "**Question 4**\n",
        "\n",
        "The file_date function creates a new file in the current working directory, checks the date that the file was modified, and returns just the date portion of the timestamp in the format of yyyy-mm-dd. Fill in the gaps to create a file called \"newfile.txt\" and check the date that it was modified."
      ]
    },
    {
      "cell_type": "code",
      "metadata": {
        "colab": {
          "base_uri": "https://localhost:8080/"
        },
        "id": "b5zlASYgapjJ",
        "outputId": "e22c416d-42c2-4047-f574-65a7208fca7b"
      },
      "source": [
        "import os\n",
        "import datetime\n",
        "\n",
        "def file_date(filename):\n",
        "  # Create the file in the current directory\n",
        "  with open (filename, 'w') as file:\n",
        "    pass\n",
        "  timestamp = os.path.getmtime(filename)\n",
        "  # Convert the timestamp into a readable format, then into a string\n",
        "  timestamp = datetime.datetime.fromtimestamp(timestamp)\n",
        "  # Return just the date portion \n",
        "  # Hint: how many characters are in “yyyy-mm-dd”? \n",
        "  return (\"{}\".format(timestamp.strftime(\"%Y-%m-%d\")))\n",
        "\n",
        "print(file_date(\"newfile.txt\")) \n",
        "# Should be today's date in the format of yyyy-mm-dd"
      ],
      "execution_count": 3,
      "outputs": [
        {
          "output_type": "stream",
          "name": "stdout",
          "text": [
            "2021-10-31\n"
          ]
        }
      ]
    },
    {
      "cell_type": "markdown",
      "metadata": {
        "id": "xusI_INUbk2H"
      },
      "source": [
        "**Question 5**\n",
        "\n",
        "The parent_directory function returns the name of the directory that's located just above the current working directory. Remember that '..' is a relative path alias that means \"go up to the parent directory\". Fill in the gaps to complete this function."
      ]
    },
    {
      "cell_type": "code",
      "metadata": {
        "colab": {
          "base_uri": "https://localhost:8080/"
        },
        "id": "r670p_k3blvb",
        "outputId": "6e2a5aee-110f-40cb-c67b-bc82209ea026"
      },
      "source": [
        "import os\n",
        "def parent_directory():\n",
        "  # Create a relative path to the parent \n",
        "  # of the current working directory \n",
        "  relative_parent = os.path.abspath('..')\n",
        "\n",
        "  # Return the absolute path of the parent directory\n",
        "  return relative_parent\n",
        "\n",
        "print(parent_directory())"
      ],
      "execution_count": 4,
      "outputs": [
        {
          "output_type": "stream",
          "name": "stdout",
          "text": [
            "/\n"
          ]
        }
      ]
    }
  ]
}