{
  "nbformat": 4,
  "nbformat_minor": 0,
  "metadata": {
    "colab": {
      "name": "week1_qwlabs.ipynb",
      "provenance": [],
      "authorship_tag": "ABX9TyOjtGmPNfzWkwiYDbm9G5d0",
      "include_colab_link": true
    },
    "kernelspec": {
      "name": "python3",
      "display_name": "Python 3"
    },
    "language_info": {
      "name": "python"
    }
  },
  "cells": [
    {
      "cell_type": "markdown",
      "metadata": {
        "id": "view-in-github",
        "colab_type": "text"
      },
      "source": [
        "<a href=\"https://colab.research.google.com/github/ibrahima1289/Python-Codes/blob/main/google%20IT%20automation/Python_Interact_with_OS/week1_qwlabs.ipynb\" target=\"_parent\"><img src=\"https://colab.research.google.com/assets/colab-badge.svg\" alt=\"Open In Colab\"/></a>"
      ]
    },
    {
      "cell_type": "markdown",
      "metadata": {
        "id": "bVZIZw_6oSks"
      },
      "source": [
        "## Week 1"
      ]
    },
    {
      "cell_type": "markdown",
      "metadata": {
        "id": "5ofp7jqEoUMo"
      },
      "source": [
        "health_checks.py"
      ]
    },
    {
      "cell_type": "code",
      "metadata": {
        "colab": {
          "base_uri": "https://localhost:8080/"
        },
        "id": "3Ym66ccwoAtS",
        "outputId": "43cc45a7-888a-4189-c90c-9a2335838dd4"
      },
      "source": [
        "#!/usr/bin/env python3\n",
        "\n",
        "import shutil\n",
        "import psutil\n",
        "def check_disk_usage(disk):\n",
        "    \"\"\"Verifies that there's enough free space on disk\"\"\"\n",
        "    du = shutil.disk_usage(disk)\n",
        "    free = du.free / du.total * 100\n",
        "    return free > 20\n",
        "def check_cpu_usage():\n",
        "    \"\"\"Verifies that there's enough unused CPU\"\"\"\n",
        "    usage = psutil.cpu_percent(1)\n",
        "    return usage < 75\n",
        "# If there's not enough disk, or not enough CPU, print an error\n",
        "if not check_disk_usage('/') or not check_cpu_usage():\n",
        "    print(\"ERROR!\")\n",
        "elif check_localhost() and check_connectivity():\n",
        "    print(\"Everything ok\")\n",
        "else:\n",
        "    print(\"Network checks failed\")"
      ],
      "execution_count": 3,
      "outputs": [
        {
          "output_type": "stream",
          "name": "stdout",
          "text": [
            "Everything ok\n"
          ]
        }
      ]
    },
    {
      "cell_type": "markdown",
      "metadata": {
        "id": "xf1Lt1iWsGzA"
      },
      "source": [
        "network.py"
      ]
    },
    {
      "cell_type": "code",
      "metadata": {
        "id": "ppaqII6-oRR6"
      },
      "source": [
        "#!/usr/bin/env python3\n",
        "import requests\n",
        "import socket\n",
        "\n",
        "def check_localhost():\n",
        "    localhost = socket.gethostbyname('localhost')\n",
        "    if localhost == '127.0.0.1':\n",
        "        return True\n",
        "    else:\n",
        "        return False\n",
        "def check_connectivity():\n",
        "    request = requests.get('http://www.google.com')\n",
        "    response = request.status_code\n",
        "    if response == 200:\n",
        "        return True\n",
        "    else:\n",
        "        return False\n"
      ],
      "execution_count": 4,
      "outputs": []
    },
    {
      "cell_type": "markdown",
      "metadata": {
        "id": "z4NYTlZBsVIN"
      },
      "source": [
        "health_checks.py **updated with elif**"
      ]
    },
    {
      "cell_type": "code",
      "metadata": {
        "id": "7naSNOdsqJ31"
      },
      "source": [
        "#!/usr/bin/env python3\n",
        "\n",
        "from network import *\n",
        "import shutil\n",
        "import psutil\n",
        "\n",
        "def check_disk_usage(disk):\n",
        "    \"\"\"Verifies that there's enough free space on disk\"\"\"\n",
        "    du = shutil.disk_usage(disk)\n",
        "    free = du.free / du.total * 100\n",
        "    return free > 20\n",
        "def check_cpu_usage():\n",
        "    \"\"\"Verifies that there's enough unused CPU\"\"\"\n",
        "    usage = psutil.cpu_percent(1)\n",
        "    return usage < 75\n",
        "# If there's not enough disk, or not enough CPU, print an error\n",
        "if not check_disk_usage('/') or not check_cpu_usage():\n",
        "    print(\"ERROR!\")\n",
        "elif check_localhost() and check_connectivity():\n",
        "    print(\"Everything ok\")\n",
        "else:\n",
        "    print(\"Network checks failed\")"
      ],
      "execution_count": null,
      "outputs": []
    }
  ]
}
