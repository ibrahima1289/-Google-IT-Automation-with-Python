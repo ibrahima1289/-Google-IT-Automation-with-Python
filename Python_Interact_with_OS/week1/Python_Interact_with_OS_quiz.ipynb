{
  "nbformat": 4,
  "nbformat_minor": 0,
  "metadata": {
    "colab": {
      "name": " Python_Interact_with_OS_quiz.ipynb",
      "provenance": [],
      "collapsed_sections": [],
      "authorship_tag": "ABX9TyM1sbgwTRbxBc5XwNiy0Ylg",
      "include_colab_link": true
    },
    "kernelspec": {
      "name": "python3",
      "display_name": "Python 3"
    },
    "language_info": {
      "name": "python"
    }
  },
  "cells": [
    {
      "cell_type": "markdown",
      "metadata": {
        "id": "view-in-github",
        "colab_type": "text"
      },
      "source": [
        "<a href=\"https://colab.research.google.com/github/ibrahima1289/Python-Codes/blob/main/google%20IT%20automation/Python_Interact_with_OS_quiz.ipynb\" target=\"_parent\"><img src=\"https://colab.research.google.com/assets/colab-badge.svg\" alt=\"Open In Colab\"/></a>"
      ]
    },
    {
      "cell_type": "markdown",
      "metadata": {
        "id": "VPZkJLiJyk8e"
      },
      "source": [
        "### Week 1: Quiz - Python with the OS"
      ]
    },
    {
      "cell_type": "markdown",
      "metadata": {
        "id": "jrqk1ugyyRj6"
      },
      "source": [
        "3. y variable did not import numpy correctly."
      ]
    },
    {
      "cell_type": "code",
      "metadata": {
        "colab": {
          "base_uri": "https://localhost:8080/"
        },
        "id": "FOt7jPxFyQBv",
        "outputId": "31efc592-bae2-477c-ee6c-c6cf9c2e825b"
      },
      "source": [
        "import numpy as np\n",
        "\n",
        "def numpyArray():\n",
        "    x = np.array([[1, 2, 3], [4, 5, 6]], np.int32)\n",
        "    y = np.array([[3, 6, 2], [9, 12, 8]], np.int32)\n",
        "    return x*y\n",
        "print(numpyArray())"
      ],
      "execution_count": 1,
      "outputs": [
        {
          "output_type": "stream",
          "name": "stdout",
          "text": [
            "[[ 3 12  6]\n",
            " [36 60 48]]\n"
          ]
        }
      ]
    }
  ]
}
