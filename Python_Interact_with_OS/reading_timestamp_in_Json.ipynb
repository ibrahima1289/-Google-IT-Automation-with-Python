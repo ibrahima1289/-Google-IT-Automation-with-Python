{
  "nbformat": 4,
  "nbformat_minor": 0,
  "metadata": {
    "colab": {
      "name": "reading_timestamp_in_Json.ipynb",
      "provenance": [],
      "authorship_tag": "ABX9TyMQcqEiIYkKMYFAPkfD6+QC",
      "include_colab_link": true
    },
    "kernelspec": {
      "name": "python3",
      "display_name": "Python 3"
    },
    "language_info": {
      "name": "python"
    }
  },
  "cells": [
    {
      "cell_type": "markdown",
      "metadata": {
        "id": "view-in-github",
        "colab_type": "text"
      },
      "source": [
        "<a href=\"https://colab.research.google.com/github/ibrahima1289/Google-IT-Automation-with-Python/blob/main/Python_Interact_with_OS/reading_timestamp_in_Json.ipynb\" target=\"_parent\"><img src=\"https://colab.research.google.com/assets/colab-badge.svg\" alt=\"Open In Colab\"/></a>"
      ]
    },
    {
      "cell_type": "markdown",
      "metadata": {
        "id": "6Uyu9ZX_pMR-"
      },
      "source": [
        "## **How to read timestamp in json**"
      ]
    },
    {
      "cell_type": "code",
      "metadata": {
        "colab": {
          "base_uri": "https://localhost:8080/"
        },
        "id": "3QsZkkF9q12e",
        "outputId": "5e054eab-7888-4982-ce36-a231bd8d4569"
      },
      "source": [
        "from datetime import datetime\n",
        "\n",
        "def _timestamp(timestamp):\n",
        "  dt_object = datetime.fromtimestamp(timestamp)\n",
        "\n",
        "timestamp = int(input(\"Enter the timestamp: \"))\n",
        "_timestamp(timestamp)\n",
        "print(dt_object)"
      ],
      "execution_count": 18,
      "outputs": [
        {
          "output_type": "stream",
          "name": "stdout",
          "text": [
            "Enter the timestamp: 1442930885\n",
            "2018-12-25 09:27:53\n"
          ]
        }
      ]
    },
    {
      "cell_type": "code",
      "metadata": {
        "colab": {
          "base_uri": "https://localhost:8080/"
        },
        "id": "kfPLt6MsseR7",
        "outputId": "70cc2728-35e1-47e3-bfbf-cfe05b853af5"
      },
      "source": [
        "import time\n",
        "timestamp = 1442930885\n",
        "datetime = time.strftime('%A, %Y-%m-%d %H:%M:%S', time.localtime(timestamp))\n",
        "print(datetime)"
      ],
      "execution_count": 16,
      "outputs": [
        {
          "output_type": "stream",
          "name": "stdout",
          "text": [
            "Tuesday, 2015-09-22 14:08:05\n"
          ]
        }
      ]
    }
  ]
}